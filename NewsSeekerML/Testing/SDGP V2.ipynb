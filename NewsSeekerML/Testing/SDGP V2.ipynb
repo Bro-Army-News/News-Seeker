{
 "cells": [
  {
   "cell_type": "code",
   "execution_count": 2,
   "metadata": {},
   "outputs": [
    {
     "name": "stdout",
     "output_type": "stream",
     "text": [
      "Collecting pymongoNote: you may need to restart the kernel to use updated packages.\n",
      "  Downloading pymongo-3.11.3-cp38-cp38-win_amd64.whl (383 kB)\n",
      "Installing collected packages: pymongo\n",
      "Successfully installed pymongo-3.11.3\n",
      "\n"
     ]
    }
   ],
   "source": [
    "pip install pymongo"
   ]
  },
  {
   "cell_type": "code",
   "execution_count": 6,
   "metadata": {},
   "outputs": [],
   "source": [
    "import pymongo"
   ]
  },
  {
   "cell_type": "code",
   "execution_count": 7,
   "metadata": {},
   "outputs": [],
   "source": [
    "from pymongo import MongoClient"
   ]
  },
  {
   "cell_type": "code",
   "execution_count": 8,
   "metadata": {},
   "outputs": [],
   "source": [
    "connection = MongoClient('localhost',27017)\n",
    "db = connection.NewsSeeker"
   ]
  },
  {
   "cell_type": "code",
   "execution_count": 9,
   "metadata": {},
   "outputs": [],
   "source": [
    "import pandas as pd\n",
    "import numpy as np\n",
    "import seaborn as sns\n",
    "import matplotlib.pyplot as plt\n",
    "from sklearn.model_selection import train_test_split\n",
    "from sklearn.metrics import accuracy_score\n",
    "from sklearn.metrics import classification_report\n",
    "import re\n",
    "import string"
   ]
  },
  {
   "cell_type": "code",
   "execution_count": 11,
   "metadata": {},
   "outputs": [],
   "source": [
    "data = db.MergedNews"
   ]
  },
  {
   "cell_type": "code",
   "execution_count": 12,
   "metadata": {},
   "outputs": [
    {
     "data": {
      "text/html": [
       "<div>\n",
       "<style scoped>\n",
       "    .dataframe tbody tr th:only-of-type {\n",
       "        vertical-align: middle;\n",
       "    }\n",
       "\n",
       "    .dataframe tbody tr th {\n",
       "        vertical-align: top;\n",
       "    }\n",
       "\n",
       "    .dataframe thead th {\n",
       "        text-align: right;\n",
       "    }\n",
       "</style>\n",
       "<table border=\"1\" class=\"dataframe\">\n",
       "  <thead>\n",
       "    <tr style=\"text-align: right;\">\n",
       "      <th></th>\n",
       "      <th>_id</th>\n",
       "      <th></th>\n",
       "      <th>title</th>\n",
       "      <th>text</th>\n",
       "      <th>subject</th>\n",
       "      <th>date</th>\n",
       "      <th>class</th>\n",
       "    </tr>\n",
       "  </thead>\n",
       "  <tbody>\n",
       "    <tr>\n",
       "      <th>0</th>\n",
       "      <td>6059bbcc1a872bbab028f67d</td>\n",
       "      <td>0</td>\n",
       "      <td>Donald Trump Sends Out Embarrassing New Year’s...</td>\n",
       "      <td>Donald Trump just couldn t wish all Americans ...</td>\n",
       "      <td>News</td>\n",
       "      <td>December 31, 2017</td>\n",
       "      <td>0</td>\n",
       "    </tr>\n",
       "    <tr>\n",
       "      <th>1</th>\n",
       "      <td>6059bbcc1a872bbab028f67e</td>\n",
       "      <td>1</td>\n",
       "      <td>Drunk Bragging Trump Staffer Started Russian C...</td>\n",
       "      <td>House Intelligence Committee Chairman Devin Nu...</td>\n",
       "      <td>News</td>\n",
       "      <td>December 31, 2017</td>\n",
       "      <td>0</td>\n",
       "    </tr>\n",
       "    <tr>\n",
       "      <th>2</th>\n",
       "      <td>6059bbcc1a872bbab028f67f</td>\n",
       "      <td>2</td>\n",
       "      <td>Sheriff David Clarke Becomes An Internet Joke ...</td>\n",
       "      <td>On Friday, it was revealed that former Milwauk...</td>\n",
       "      <td>News</td>\n",
       "      <td>December 30, 2017</td>\n",
       "      <td>0</td>\n",
       "    </tr>\n",
       "    <tr>\n",
       "      <th>3</th>\n",
       "      <td>6059bbcc1a872bbab028f680</td>\n",
       "      <td>3</td>\n",
       "      <td>Trump Is So Obsessed He Even Has Obama’s Name ...</td>\n",
       "      <td>On Christmas day, Donald Trump announced that ...</td>\n",
       "      <td>News</td>\n",
       "      <td>December 29, 2017</td>\n",
       "      <td>0</td>\n",
       "    </tr>\n",
       "    <tr>\n",
       "      <th>4</th>\n",
       "      <td>6059bbcc1a872bbab028f681</td>\n",
       "      <td>4</td>\n",
       "      <td>Pope Francis Just Called Out Donald Trump Duri...</td>\n",
       "      <td>Pope Francis used his annual Christmas Day mes...</td>\n",
       "      <td>News</td>\n",
       "      <td>December 25, 2017</td>\n",
       "      <td>0</td>\n",
       "    </tr>\n",
       "    <tr>\n",
       "      <th>...</th>\n",
       "      <td>...</td>\n",
       "      <td>...</td>\n",
       "      <td>...</td>\n",
       "      <td>...</td>\n",
       "      <td>...</td>\n",
       "      <td>...</td>\n",
       "      <td>...</td>\n",
       "    </tr>\n",
       "    <tr>\n",
       "      <th>44873</th>\n",
       "      <td>6059bbcf1a872bbab029a5c6</td>\n",
       "      <td>21402</td>\n",
       "      <td>Exclusive: Trump's Afghan decision may increas...</td>\n",
       "      <td>ON BOARD A U.S. MILITARY AIRCRAFT (Reuters) - ...</td>\n",
       "      <td>worldnews</td>\n",
       "      <td>August 22, 2017</td>\n",
       "      <td>1</td>\n",
       "    </tr>\n",
       "    <tr>\n",
       "      <th>44874</th>\n",
       "      <td>6059bbcf1a872bbab029a5c7</td>\n",
       "      <td>21403</td>\n",
       "      <td>U.S. puts more pressure on Pakistan to help wi...</td>\n",
       "      <td>WASHINGTON (Reuters) - The United States sugge...</td>\n",
       "      <td>worldnews</td>\n",
       "      <td>August 21, 2017</td>\n",
       "      <td>1</td>\n",
       "    </tr>\n",
       "    <tr>\n",
       "      <th>44875</th>\n",
       "      <td>6059bbcf1a872bbab029a5c8</td>\n",
       "      <td>21404</td>\n",
       "      <td>Exclusive: U.S. to withhold up to $290 million...</td>\n",
       "      <td>WASHINGTON (Reuters) - The United States has d...</td>\n",
       "      <td>worldnews</td>\n",
       "      <td>August 22, 2017</td>\n",
       "      <td>1</td>\n",
       "    </tr>\n",
       "    <tr>\n",
       "      <th>44876</th>\n",
       "      <td>6059bbcf1a872bbab029a5c9</td>\n",
       "      <td>21405</td>\n",
       "      <td>Trump talks tough on Pakistan's 'terrorist' ha...</td>\n",
       "      <td>ISLAMABAD (Reuters) - Outlining a new strategy...</td>\n",
       "      <td>worldnews</td>\n",
       "      <td>August 22, 2017</td>\n",
       "      <td>1</td>\n",
       "    </tr>\n",
       "    <tr>\n",
       "      <th>44877</th>\n",
       "      <td>6059bbcf1a872bbab029a5ca</td>\n",
       "      <td>21406</td>\n",
       "      <td>U.S., North Korea clash at U.N. forum over nuc...</td>\n",
       "      <td>GENEVA (Reuters) - North Korea and the United ...</td>\n",
       "      <td>worldnews</td>\n",
       "      <td>August 22, 2017</td>\n",
       "      <td>1</td>\n",
       "    </tr>\n",
       "  </tbody>\n",
       "</table>\n",
       "<p>44878 rows × 7 columns</p>\n",
       "</div>"
      ],
      "text/plain": [
       "                            _id         \\\n",
       "0      6059bbcc1a872bbab028f67d      0   \n",
       "1      6059bbcc1a872bbab028f67e      1   \n",
       "2      6059bbcc1a872bbab028f67f      2   \n",
       "3      6059bbcc1a872bbab028f680      3   \n",
       "4      6059bbcc1a872bbab028f681      4   \n",
       "...                         ...    ...   \n",
       "44873  6059bbcf1a872bbab029a5c6  21402   \n",
       "44874  6059bbcf1a872bbab029a5c7  21403   \n",
       "44875  6059bbcf1a872bbab029a5c8  21404   \n",
       "44876  6059bbcf1a872bbab029a5c9  21405   \n",
       "44877  6059bbcf1a872bbab029a5ca  21406   \n",
       "\n",
       "                                                   title  \\\n",
       "0      Donald Trump Sends Out Embarrassing New Year’s...   \n",
       "1      Drunk Bragging Trump Staffer Started Russian C...   \n",
       "2      Sheriff David Clarke Becomes An Internet Joke ...   \n",
       "3      Trump Is So Obsessed He Even Has Obama’s Name ...   \n",
       "4      Pope Francis Just Called Out Donald Trump Duri...   \n",
       "...                                                  ...   \n",
       "44873  Exclusive: Trump's Afghan decision may increas...   \n",
       "44874  U.S. puts more pressure on Pakistan to help wi...   \n",
       "44875  Exclusive: U.S. to withhold up to $290 million...   \n",
       "44876  Trump talks tough on Pakistan's 'terrorist' ha...   \n",
       "44877  U.S., North Korea clash at U.N. forum over nuc...   \n",
       "\n",
       "                                                    text    subject  \\\n",
       "0      Donald Trump just couldn t wish all Americans ...       News   \n",
       "1      House Intelligence Committee Chairman Devin Nu...       News   \n",
       "2      On Friday, it was revealed that former Milwauk...       News   \n",
       "3      On Christmas day, Donald Trump announced that ...       News   \n",
       "4      Pope Francis used his annual Christmas Day mes...       News   \n",
       "...                                                  ...        ...   \n",
       "44873  ON BOARD A U.S. MILITARY AIRCRAFT (Reuters) - ...  worldnews   \n",
       "44874  WASHINGTON (Reuters) - The United States sugge...  worldnews   \n",
       "44875  WASHINGTON (Reuters) - The United States has d...  worldnews   \n",
       "44876  ISLAMABAD (Reuters) - Outlining a new strategy...  worldnews   \n",
       "44877  GENEVA (Reuters) - North Korea and the United ...  worldnews   \n",
       "\n",
       "                    date  class  \n",
       "0      December 31, 2017      0  \n",
       "1      December 31, 2017      0  \n",
       "2      December 30, 2017      0  \n",
       "3      December 29, 2017      0  \n",
       "4      December 25, 2017      0  \n",
       "...                  ...    ...  \n",
       "44873   August 22, 2017       1  \n",
       "44874   August 21, 2017       1  \n",
       "44875   August 22, 2017       1  \n",
       "44876   August 22, 2017       1  \n",
       "44877   August 22, 2017       1  \n",
       "\n",
       "[44878 rows x 7 columns]"
      ]
     },
     "execution_count": 12,
     "metadata": {},
     "output_type": "execute_result"
    }
   ],
   "source": [
    "df_merge = pd.DataFrame(list(data.find()))\n",
    "df_merge"
   ]
  },
  {
   "cell_type": "code",
   "execution_count": 43,
   "metadata": {},
   "outputs": [],
   "source": [
    "df = df_merge.drop([\"title\", \"subject\",\"date\"], axis = 1)"
   ]
  },
  {
   "cell_type": "code",
   "execution_count": 44,
   "metadata": {},
   "outputs": [
    {
     "data": {
      "text/plain": [
       "_id      0\n",
       "         0\n",
       "text     0\n",
       "class    0\n",
       "dtype: int64"
      ]
     },
     "execution_count": 44,
     "metadata": {},
     "output_type": "execute_result"
    }
   ],
   "source": [
    "df.isnull().sum()"
   ]
  },
  {
   "cell_type": "code",
   "execution_count": 45,
   "metadata": {},
   "outputs": [],
   "source": [
    "df = df.sample(frac = 1)"
   ]
  },
  {
   "cell_type": "code",
   "execution_count": 46,
   "metadata": {},
   "outputs": [
    {
     "data": {
      "text/html": [
       "<div>\n",
       "<style scoped>\n",
       "    .dataframe tbody tr th:only-of-type {\n",
       "        vertical-align: middle;\n",
       "    }\n",
       "\n",
       "    .dataframe tbody tr th {\n",
       "        vertical-align: top;\n",
       "    }\n",
       "\n",
       "    .dataframe thead th {\n",
       "        text-align: right;\n",
       "    }\n",
       "</style>\n",
       "<table border=\"1\" class=\"dataframe\">\n",
       "  <thead>\n",
       "    <tr style=\"text-align: right;\">\n",
       "      <th></th>\n",
       "      <th>_id</th>\n",
       "      <th></th>\n",
       "      <th>text</th>\n",
       "      <th>class</th>\n",
       "    </tr>\n",
       "  </thead>\n",
       "  <tbody>\n",
       "    <tr>\n",
       "      <th>12008</th>\n",
       "      <td>6059bbcd1a872bbab0292565</td>\n",
       "      <td>12008</td>\n",
       "      <td>Megyn Kelly, who arrived at Fox News 12 years ...</td>\n",
       "      <td>0</td>\n",
       "    </tr>\n",
       "    <tr>\n",
       "      <th>37425</th>\n",
       "      <td>6059bbcf1a872bbab02988ae</td>\n",
       "      <td>13954</td>\n",
       "      <td>PARIS (Reuters) - The head of a Saudi-based or...</td>\n",
       "      <td>1</td>\n",
       "    </tr>\n",
       "    <tr>\n",
       "      <th>360</th>\n",
       "      <td>6059bbcc1a872bbab028f7e5</td>\n",
       "      <td>360</td>\n",
       "      <td>The Republican Party still hasn t learned that...</td>\n",
       "      <td>0</td>\n",
       "    </tr>\n",
       "    <tr>\n",
       "      <th>32273</th>\n",
       "      <td>6059bbcf1a872bbab029748e</td>\n",
       "      <td>8802</td>\n",
       "      <td>WASHINGTON (Reuters) - Democrat Baron Hill on ...</td>\n",
       "      <td>1</td>\n",
       "    </tr>\n",
       "    <tr>\n",
       "      <th>29526</th>\n",
       "      <td>6059bbce1a872bbab02969d3</td>\n",
       "      <td>6055</td>\n",
       "      <td>WASHINGTON/CHICAGO (Reuters) - U.S. President ...</td>\n",
       "      <td>1</td>\n",
       "    </tr>\n",
       "    <tr>\n",
       "      <th>32780</th>\n",
       "      <td>6059bbcf1a872bbab0297689</td>\n",
       "      <td>9309</td>\n",
       "      <td>SINGAPORE (Reuters) - The United States expect...</td>\n",
       "      <td>1</td>\n",
       "    </tr>\n",
       "    <tr>\n",
       "      <th>35591</th>\n",
       "      <td>6059bbcf1a872bbab0298184</td>\n",
       "      <td>12120</td>\n",
       "      <td>VIENNA (Reuters) - Austria s center-right Peop...</td>\n",
       "      <td>1</td>\n",
       "    </tr>\n",
       "    <tr>\n",
       "      <th>6512</th>\n",
       "      <td>6059bbcc1a872bbab0290fed</td>\n",
       "      <td>6512</td>\n",
       "      <td>Never underestimate the impact a single person...</td>\n",
       "      <td>0</td>\n",
       "    </tr>\n",
       "    <tr>\n",
       "      <th>33399</th>\n",
       "      <td>6059bbcf1a872bbab02978f4</td>\n",
       "      <td>9928</td>\n",
       "      <td>(Reuters) - Former New York Governor George Pa...</td>\n",
       "      <td>1</td>\n",
       "    </tr>\n",
       "    <tr>\n",
       "      <th>35012</th>\n",
       "      <td>6059bbcf1a872bbab0297f41</td>\n",
       "      <td>11541</td>\n",
       "      <td>SEOUL (Reuters) - South Korean President Moon ...</td>\n",
       "      <td>1</td>\n",
       "    </tr>\n",
       "  </tbody>\n",
       "</table>\n",
       "</div>"
      ],
      "text/plain": [
       "                            _id         \\\n",
       "12008  6059bbcd1a872bbab0292565  12008   \n",
       "37425  6059bbcf1a872bbab02988ae  13954   \n",
       "360    6059bbcc1a872bbab028f7e5    360   \n",
       "32273  6059bbcf1a872bbab029748e   8802   \n",
       "29526  6059bbce1a872bbab02969d3   6055   \n",
       "32780  6059bbcf1a872bbab0297689   9309   \n",
       "35591  6059bbcf1a872bbab0298184  12120   \n",
       "6512   6059bbcc1a872bbab0290fed   6512   \n",
       "33399  6059bbcf1a872bbab02978f4   9928   \n",
       "35012  6059bbcf1a872bbab0297f41  11541   \n",
       "\n",
       "                                                    text  class  \n",
       "12008  Megyn Kelly, who arrived at Fox News 12 years ...      0  \n",
       "37425  PARIS (Reuters) - The head of a Saudi-based or...      1  \n",
       "360    The Republican Party still hasn t learned that...      0  \n",
       "32273  WASHINGTON (Reuters) - Democrat Baron Hill on ...      1  \n",
       "29526  WASHINGTON/CHICAGO (Reuters) - U.S. President ...      1  \n",
       "32780  SINGAPORE (Reuters) - The United States expect...      1  \n",
       "35591  VIENNA (Reuters) - Austria s center-right Peop...      1  \n",
       "6512   Never underestimate the impact a single person...      0  \n",
       "33399  (Reuters) - Former New York Governor George Pa...      1  \n",
       "35012  SEOUL (Reuters) - South Korean President Moon ...      1  "
      ]
     },
     "execution_count": 46,
     "metadata": {},
     "output_type": "execute_result"
    }
   ],
   "source": [
    "df.head(10)"
   ]
  },
  {
   "cell_type": "code",
   "execution_count": 47,
   "metadata": {},
   "outputs": [],
   "source": [
    "def drop_text(text):\n",
    "    text = text.lower()\n",
    "    text = re.sub('\\[.*?\\]', '', text)\n",
    "    text = re.sub(\"\\\\W\",\" \",text) \n",
    "    text = re.sub('https?://\\S+|www\\.\\S+', '', text)\n",
    "    text = re.sub('<.*?>+', '', text)\n",
    "    text = re.sub('[%s]' % re.escape(string.punctuation), '', text)\n",
    "    text = re.sub('\\n', '', text)\n",
    "    text = re.sub('\\w*\\d\\w*', '', text)    \n",
    "    return text"
   ]
  },
  {
   "cell_type": "code",
   "execution_count": 48,
   "metadata": {},
   "outputs": [],
   "source": [
    "df[\"text\"] = df[\"text\"].apply(drop_text)"
   ]
  },
  {
   "cell_type": "code",
   "execution_count": 26,
   "metadata": {},
   "outputs": [
    {
     "data": {
      "text/html": [
       "<div>\n",
       "<style scoped>\n",
       "    .dataframe tbody tr th:only-of-type {\n",
       "        vertical-align: middle;\n",
       "    }\n",
       "\n",
       "    .dataframe tbody tr th {\n",
       "        vertical-align: top;\n",
       "    }\n",
       "\n",
       "    .dataframe thead th {\n",
       "        text-align: right;\n",
       "    }\n",
       "</style>\n",
       "<table border=\"1\" class=\"dataframe\">\n",
       "  <thead>\n",
       "    <tr style=\"text-align: right;\">\n",
       "      <th></th>\n",
       "      <th>_id</th>\n",
       "      <th></th>\n",
       "      <th>text</th>\n",
       "      <th>class</th>\n",
       "    </tr>\n",
       "  </thead>\n",
       "  <tbody>\n",
       "    <tr>\n",
       "      <th>40054</th>\n",
       "      <td>6059bbcf1a872bbab02992f3</td>\n",
       "      <td>16583</td>\n",
       "      <td>reuters    peruvian villagers suing miner gle...</td>\n",
       "      <td>1</td>\n",
       "    </tr>\n",
       "    <tr>\n",
       "      <th>4021</th>\n",
       "      <td>6059bbcc1a872bbab0290632</td>\n",
       "      <td>4021</td>\n",
       "      <td>the domestic terrorists who staged an armed ta...</td>\n",
       "      <td>0</td>\n",
       "    </tr>\n",
       "    <tr>\n",
       "      <th>2641</th>\n",
       "      <td>6059bbcc1a872bbab02900ce</td>\n",
       "      <td>2641</td>\n",
       "      <td>according to gop congressman sean duffy  we ne...</td>\n",
       "      <td>0</td>\n",
       "    </tr>\n",
       "    <tr>\n",
       "      <th>19320</th>\n",
       "      <td>6059bbcd1a872bbab02941f5</td>\n",
       "      <td>19320</td>\n",
       "      <td>president elect donald trump came to the defen...</td>\n",
       "      <td>0</td>\n",
       "    </tr>\n",
       "    <tr>\n",
       "      <th>35972</th>\n",
       "      <td>6059bbcf1a872bbab0298301</td>\n",
       "      <td>12501</td>\n",
       "      <td>the hague  reuters    the daughter of an irani...</td>\n",
       "      <td>1</td>\n",
       "    </tr>\n",
       "    <tr>\n",
       "      <th>15027</th>\n",
       "      <td>6059bbcd1a872bbab0293130</td>\n",
       "      <td>15027</td>\n",
       "      <td>these leftist professors aren t just donating ...</td>\n",
       "      <td>0</td>\n",
       "    </tr>\n",
       "    <tr>\n",
       "      <th>13881</th>\n",
       "      <td>6059bbcd1a872bbab0292cb6</td>\n",
       "      <td>13881</td>\n",
       "      <td>two white guys living in a state where   of it...</td>\n",
       "      <td>0</td>\n",
       "    </tr>\n",
       "    <tr>\n",
       "      <th>18861</th>\n",
       "      <td>6059bbcd1a872bbab029402a</td>\n",
       "      <td>18861</td>\n",
       "      <td>how long before the media will stop using two ...</td>\n",
       "      <td>0</td>\n",
       "    </tr>\n",
       "    <tr>\n",
       "      <th>29335</th>\n",
       "      <td>6059bbce1a872bbab0296914</td>\n",
       "      <td>5864</td>\n",
       "      <td>geneva  reuters    u s  president donald trump...</td>\n",
       "      <td>1</td>\n",
       "    </tr>\n",
       "    <tr>\n",
       "      <th>21035</th>\n",
       "      <td>6059bbcd1a872bbab02948a8</td>\n",
       "      <td>21035</td>\n",
       "      <td>it s hard to tell if the men assaulting this f...</td>\n",
       "      <td>0</td>\n",
       "    </tr>\n",
       "  </tbody>\n",
       "</table>\n",
       "</div>"
      ],
      "text/plain": [
       "                            _id         \\\n",
       "40054  6059bbcf1a872bbab02992f3  16583   \n",
       "4021   6059bbcc1a872bbab0290632   4021   \n",
       "2641   6059bbcc1a872bbab02900ce   2641   \n",
       "19320  6059bbcd1a872bbab02941f5  19320   \n",
       "35972  6059bbcf1a872bbab0298301  12501   \n",
       "15027  6059bbcd1a872bbab0293130  15027   \n",
       "13881  6059bbcd1a872bbab0292cb6  13881   \n",
       "18861  6059bbcd1a872bbab029402a  18861   \n",
       "29335  6059bbce1a872bbab0296914   5864   \n",
       "21035  6059bbcd1a872bbab02948a8  21035   \n",
       "\n",
       "                                                    text  class  \n",
       "40054   reuters    peruvian villagers suing miner gle...      1  \n",
       "4021   the domestic terrorists who staged an armed ta...      0  \n",
       "2641   according to gop congressman sean duffy  we ne...      0  \n",
       "19320  president elect donald trump came to the defen...      0  \n",
       "35972  the hague  reuters    the daughter of an irani...      1  \n",
       "15027  these leftist professors aren t just donating ...      0  \n",
       "13881  two white guys living in a state where   of it...      0  \n",
       "18861  how long before the media will stop using two ...      0  \n",
       "29335  geneva  reuters    u s  president donald trump...      1  \n",
       "21035  it s hard to tell if the men assaulting this f...      0  "
      ]
     },
     "execution_count": 26,
     "metadata": {},
     "output_type": "execute_result"
    }
   ],
   "source": [
    "df.head(10)"
   ]
  },
  {
   "cell_type": "code",
   "execution_count": 27,
   "metadata": {},
   "outputs": [],
   "source": [
    "x = df[\"text\"]\n",
    "y = df[\"class\"]"
   ]
  },
  {
   "cell_type": "code",
   "execution_count": 28,
   "metadata": {},
   "outputs": [],
   "source": [
    "x_train, x_test, y_train, y_test = train_test_split(x, y, test_size = 0.25)"
   ]
  },
  {
   "cell_type": "code",
   "execution_count": 29,
   "metadata": {},
   "outputs": [],
   "source": [
    "from sklearn.feature_extraction.text import TfidfVectorizer"
   ]
  },
  {
   "cell_type": "code",
   "execution_count": 30,
   "metadata": {},
   "outputs": [],
   "source": [
    "vectorization = TfidfVectorizer()\n",
    "xv_train = vectorization.fit_transform(x_train)\n",
    "xv_test = vectorization.transform(x_test)"
   ]
  },
  {
   "cell_type": "code",
   "execution_count": 31,
   "metadata": {},
   "outputs": [],
   "source": [
    "from sklearn.tree import DecisionTreeClassifier"
   ]
  },
  {
   "cell_type": "code",
   "execution_count": 32,
   "metadata": {},
   "outputs": [
    {
     "data": {
      "text/plain": [
       "DecisionTreeClassifier()"
      ]
     },
     "execution_count": 32,
     "metadata": {},
     "output_type": "execute_result"
    }
   ],
   "source": [
    "DT = DecisionTreeClassifier()\n",
    "DT.fit(xv_train, y_train)"
   ]
  },
  {
   "cell_type": "code",
   "execution_count": 33,
   "metadata": {},
   "outputs": [],
   "source": [
    "pred_dt = DT.predict(xv_test)"
   ]
  },
  {
   "cell_type": "code",
   "execution_count": 34,
   "metadata": {},
   "outputs": [
    {
     "data": {
      "text/plain": [
       "0.9954545454545455"
      ]
     },
     "execution_count": 34,
     "metadata": {},
     "output_type": "execute_result"
    }
   ],
   "source": [
    "DT.score(xv_test, y_test)"
   ]
  },
  {
   "cell_type": "code",
   "execution_count": 35,
   "metadata": {},
   "outputs": [
    {
     "name": "stdout",
     "output_type": "stream",
     "text": [
      "              precision    recall  f1-score   support\n",
      "\n",
      "           0       1.00      1.00      1.00      5906\n",
      "           1       1.00      1.00      1.00      5314\n",
      "\n",
      "    accuracy                           1.00     11220\n",
      "   macro avg       1.00      1.00      1.00     11220\n",
      "weighted avg       1.00      1.00      1.00     11220\n",
      "\n"
     ]
    }
   ],
   "source": [
    "print(classification_report(y_test, pred_dt))"
   ]
  },
  {
   "cell_type": "code",
   "execution_count": 36,
   "metadata": {},
   "outputs": [],
   "source": [
    "def output_lable(n):\n",
    "    if n == 0:\n",
    "        return \"Fake News\"\n",
    "    elif n == 1:\n",
    "        return \"Real News\"\n",
    "    \n",
    "def manual_testing(news):\n",
    "    testing_news = {\"text\":[news]}\n",
    "    new_def_test = pd.DataFrame(testing_news)\n",
    "    new_def_test[\"text\"] = new_def_test[\"text\"].apply(drop_text) \n",
    "    new_x_test = new_def_test[\"text\"]\n",
    "    new_xv_test = vectorization.transform(new_x_test)\n",
    "    pred_DT = DT.predict(new_xv_test)\n",
    "\n",
    "    return print(\"\\n \\nDT Prediction: {} \".format(output_lable(pred_DT[0])))"
   ]
  },
  {
   "cell_type": "code",
   "execution_count": 37,
   "metadata": {},
   "outputs": [
    {
     "name": "stdout",
     "output_type": "stream",
     "text": [
      "GENEVA (Reuters) - North Korea and the United States accused each other on Tuesday of posing a nuclear threat, with Pyongyang s envoy declaring it would never put its atomic arsenal up for negotiation. The debate at the United Nations began when the U.S. envoy said President Donald Trump s top priority was to protect the United States and its allies against the  growing threat  from North Korea. To do so, he said, the country was ready to use  the full range of capabilities at our disposal . U.S. Ambassador Robert Wood told the Conference on Disarmament that the  path to dialogue still remains an option  for Pyongyang, but that Washington was  undeterred in defending against the threat North Korea poses . Fears have grown over North Korea s development of missiles and nuclear weapons since Pyongyang test-launched intercontinental ballistic missiles (ICBMs) in July. Those fears worsened after Trump warned that North Korea would face  fire and fury  if it threatened the United States. His remarks led North Korea to say it was considering plans to fire missiles towards the U.S. Pacific territory of Guam. Trump responded by tweeting that the U.S. military was  locked and loaded, should North Korea act unwisely . A few days later, North Korean media reported the country s leader, Kim Jong Un, had delayed any decision on whether to fire missiles towards Guam while he waited to see what the United States would do. Experts warned Pyongyang could still go ahead with the missile launches.      North Korea s ballistic missile and nuclear weapons programs pose grave threats to the entire world,  Wood told the Geneva forum.  Its recent ICBM tests are another example of the dangerous reckless behavior of the North that is destabilizing the region and beyond.  North Korea had openly stated that its missiles are intended to strike cities in the United States and its allies South Korea and Japan, he said.  My president s top priority remains protecting the homeland, U.S. territories and our allies against North Korean aggression. We remain prepared to use the full range of capabilities at our disposal against the growing threat from North Korea.  North Korea diplomat Ju Yong Chol said that measures taken by his country to strengthen its nuclear deterrent and develop inter-continental rockets were  justifiable and a legitimate option .  As long as the U.S. hostile policy and nuclear threat remains unchallenged, the DPRK will never place its self-defensive nuclear deterrence on the negotiating table or step back an inch from the path it took to bolster the national nuclear force,  Ju said. In a subsequent speech, Ju said:  The United States should clearly understand that military threats and pressure are only serving as a momentum that pushes the DPRK further into developing fully strengthened nuclear deterrence.  Regarding joint U.S.-South Korean military exercises that began on Monday, he said:  The ongoing military adventure would certainly add gasoline to the fire, driving the current tense situation to further deterioration.  China s disarmament ambassador, Fu Cong, called for support for its proposal to defuse the crisis affecting its Pyongyang ally.  China has called for  dual suspension , that is of North Korea s nuclear activities and joint military exercises between the Republic of Korea and United States. This seeks to denuclearize the peninsula and promote a security mechanism.  Wood rejected Beijing s  freeze for freeze  plan.  This proposal unfortunately creates a false equivalency between states that are engaging in legitimate exercises of self-defense who have done so for many years with a regime that has basically violated countless Security Council resolutions with regard to its proscribed nuclear and ballistic missile programs,  he told the gathering.  That is a false equivalency that we cannot accept and will not accept,  he said. Fu retorted:  I just want to say that we re not creating equivalency between anything. We are just actually making the proposal to facilitate a dialogue and to reduce the tension. We need a starting point to really launch the dialogue.  \n",
      "\n",
      " \n",
      "DT Prediction: Real News \n"
     ]
    }
   ],
   "source": [
    "news = str(input())\n",
    "manual_testing(news)"
   ]
  },
  {
   "cell_type": "code",
   "execution_count": null,
   "metadata": {},
   "outputs": [],
   "source": []
  }
 ],
 "metadata": {
  "kernelspec": {
   "display_name": "Python 3",
   "language": "python",
   "name": "python3"
  },
  "language_info": {
   "codemirror_mode": {
    "name": "ipython",
    "version": 3
   },
   "file_extension": ".py",
   "mimetype": "text/x-python",
   "name": "python",
   "nbconvert_exporter": "python",
   "pygments_lexer": "ipython3",
   "version": "3.8.5"
  }
 },
 "nbformat": 4,
 "nbformat_minor": 4
}
